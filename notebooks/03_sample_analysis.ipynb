{
 "cells": [
  {
   "cell_type": "markdown",
   "metadata": {},
   "source": [
    "# Sample Analysis and Visualization\n",
    "\n",
    "Analysis and comparison of selected galaxy pairs vs control sample:\n",
    "- Property distributions\n",
    "- Sky coverage\n",
    "- Observability assessment"
   ]
  },
  {
   "cell_type": "code",
   "execution_count": null,
   "metadata": {},
   "outputs": [],
   "source": [
    "import sys\n",
    "sys.path.append('../scripts/analysis')\n",
    "sys.path.append('../scripts/visualization')\n",
    "from catalog_analysis import *\n",
    "from plotting_utils import *"
   ]
  },
  {
   "cell_type": "markdown",
   "metadata": {},
   "source": [
    "## Load Selected Samples"
   ]
  },
  {
   "cell_type": "code",
   "execution_count": null,
   "metadata": {},
   "outputs": [],
   "source": [
    "pairs = pd.read_csv('../results/catalogs/selected_pairs.csv')\n",
    "control = pd.read_csv('../results/catalogs/control_sample.csv')"
   ]
  },
  {
   "cell_type": "markdown",
   "metadata": {},
   "source": [
    "## Visualize Samples"
   ]
  },
  {
   "cell_type": "code",
   "execution_count": null,
   "metadata": {},
   "outputs": [],
   "source": [
    "setup_plot_style()\n",
    "\n",
    "# Plot sky distribution\n",
    "fig, (ax1, ax2) = plt.subplots(1, 2, figsize=(12, 5))\n",
    "\n",
    "# Sky positions\n",
    "plot_sky_distribution(pairs['RA'], pairs['DEC'], \"Galaxy Pairs\")\n",
    "plot_sky_distribution(control['RA'], control['DEC'], \"Control Sample\")\n",
    "\n",
    "plt.tight_layout()\n",
    "plt.savefig('../results/plots/sky_distribution.png', dpi=300, bbox_inches='tight')\n",
    "plt.show()"
   ]
  }
 ],
 "metadata": {
  "kernelspec": {
   "display_name": "Python 3",
   "language": "python",
   "name": "python3"
  },
  "language_info": {
   "name": "python",
   "version": "3.8.5"
  }
 },
 "nbformat": 4,
 "nbformat_minor": 4
}