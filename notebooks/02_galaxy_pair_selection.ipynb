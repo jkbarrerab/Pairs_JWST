{
 "cells": [
  {
   "cell_type": "markdown",
   "metadata": {},
   "source": [
    "# Galaxy Pair Selection\n",
    "\n",
    "Implementation of selection criteria for galaxy pairs:\n",
    "1. Maximum separation of 50 kpc projected\n",
    "2. Similar stellar masses\n",
    "3. Velocity difference < 300 km/s\n",
    "4. Star-forming galaxies\n",
    "5. Size constraint for NIRSpec FoV\n",
    "6. Halpha observability"
   ]
  },
  {
   "cell_type": "code",
   "execution_count": null,
   "metadata": {},
   "outputs": [],
   "source": [
    "import sys\n",
    "sys.path.append('../scripts/selection')\n",
    "from galaxy_pair_selection import *"
   ]
  },
  {
   "cell_type": "markdown",
   "metadata": {},
   "source": [
    "## Apply Selection Criteria"
   ]
  },
  {
   "cell_type": "code",
   "execution_count": null,
   "metadata": {},
   "outputs": [],
   "source": [
    "# Load data and apply selection\n",
    "data = load_selection_data('../data/raw/selection_criteria_data.csv')\n",
    "selected_pairs = select_galaxy_pairs(data, n_pairs=10)\n",
    "control_sample = select_control_sample(data, n_control=10)"
   ]
  },
  {
   "cell_type": "code",
   "execution_count": null,
   "metadata": {},
   "outputs": [],
   "source": [
    "# Save selected samples\n",
    "selected_pairs.to_csv('../results/catalogs/selected_pairs.csv', index=False)\n",
    "control_sample.to_csv('../results/catalogs/control_sample.csv', index=False)"
   ]
  }
 ],
 "metadata": {
  "kernelspec": {
   "display_name": "Python 3",
   "language": "python",
   "name": "python3"
  },
  "language_info": {
   "name": "python",
   "version": "3.8.5"
  }
 },
 "nbformat": 4,
 "nbformat_minor": 4
}